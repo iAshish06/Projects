{
  "nbformat": 4,
  "nbformat_minor": 0,
  "metadata": {
    "colab": {
      "provenance": [],
      "gpuType": "T4"
    },
    "kernelspec": {
      "name": "python3",
      "display_name": "Python 3"
    },
    "language_info": {
      "name": "python"
    },
    "accelerator": "GPU"
  },
  "cells": [
    {
      "cell_type": "markdown",
      "source": [
        "Link of Dataset: https://www.kaggle.com/datasets/paultimothymooney/chest-xray-pneumonia"
      ],
      "metadata": {
        "id": "WqgkqN0N4w4n"
      }
    },
    {
      "cell_type": "markdown",
      "source": [
        "Downloading the Dataset"
      ],
      "metadata": {
        "id": "CxjsukEq5HO8"
      }
    },
    {
      "cell_type": "code",
      "source": [
        "!kaggle datasets download -d lasaljaywardena/pneumonia-chest-x-ray-dataset"
      ],
      "metadata": {
        "colab": {
          "base_uri": "https://localhost:8080/"
        },
        "id": "ed2FYiIOv8pP",
        "outputId": "460aef7b-e0c7-46c0-8eb9-e8c870e058f6"
      },
      "execution_count": 5,
      "outputs": [
        {
          "output_type": "stream",
          "name": "stdout",
          "text": [
            "Downloading pneumonia-chest-x-ray-dataset.zip to /content\n",
            "100% 1.14G/1.14G [00:53<00:00, 23.8MB/s]\n",
            "100% 1.14G/1.14G [00:53<00:00, 22.8MB/s]\n"
          ]
        }
      ]
    },
    {
      "cell_type": "code",
      "source": [
        "! unzip /content/pneumonia-chest-x-ray-dataset.zip"
      ],
      "metadata": {
        "id": "B10EUQ6ZwVmR"
      },
      "execution_count": null,
      "outputs": []
    },
    {
      "cell_type": "markdown",
      "source": [
        "Importing the Required Libraries"
      ],
      "metadata": {
        "id": "gNraenyh5Mgh"
      }
    },
    {
      "cell_type": "code",
      "source": [
        "from tensorflow.keras.models import Sequential\n",
        "from tensorflow.keras.layers import Conv2D, MaxPool2D,Dropout, Flatten, Dense, MaxPooling2D\n",
        "from tensorflow.keras.optimizers import RMSprop, Adam\n",
        "from tensorflow.keras.preprocessing.image import ImageDataGenerator\n",
        "import matplotlib.pyplot as plt\n",
        "import numpy as np\n",
        "import pandas as pd"
      ],
      "metadata": {
        "id": "DNBVKeDlxbcx"
      },
      "execution_count": 7,
      "outputs": []
    },
    {
      "cell_type": "markdown",
      "source": [
        "Pre Processing"
      ],
      "metadata": {
        "id": "E3zujDQm5SXL"
      }
    },
    {
      "cell_type": "code",
      "source": [
        "test_path = '/content/test/'\n",
        "train_path = '/content/train/'\n",
        "val_path = '/content/val/'\n",
        "\n",
        "# Since Validation set contains only a handful of data points so I am not including it in Model training.\n",
        "# I will use data from this set to test our model as an external source after testing the model with test set data."
      ],
      "metadata": {
        "id": "Qbw2VdgPwZf-"
      },
      "execution_count": 8,
      "outputs": []
    },
    {
      "cell_type": "code",
      "source": [
        "dgen_train = ImageDataGenerator(rescale = 1./255,\n",
        "                                validation_split = 0.12,\n",
        "                                zoom_range = 0.1,\n",
        "                                fill_mode='nearest',\n",
        "                                horizontal_flip = True)\n",
        "\n",
        "# The reason for including Validation_split = 0.12,\n",
        "# instead of traditional value of 0.2 or 0.3 is to match its value as close as possible to test set.\n",
        "\n",
        "dgen_validation = ImageDataGenerator(rescale = 1./255,\n",
        "                                     )\n",
        "\n",
        "dgen_test = ImageDataGenerator(rescale = 1./255,\n",
        "                              )\n",
        "\n",
        "train_generator = dgen_train.flow_from_directory(train_path,\n",
        "                                                 target_size = (150, 150),\n",
        "                                                 subset = 'training',\n",
        "                                                 batch_size = 46,\n",
        "                                                 class_mode = 'binary')\n",
        "validation_generator = dgen_train.flow_from_directory(train_path,\n",
        "                                                      target_size = (150, 150),\n",
        "                                                      subset = \"validation\",\n",
        "                                                      batch_size = 46,\n",
        "                                                      class_mode = \"binary\")\n",
        "test_generator = dgen_test.flow_from_directory(test_path,\n",
        "                                               target_size = (150, 150),\n",
        "                                               batch_size = 46,\n",
        "                                               class_mode = \"binary\")"
      ],
      "metadata": {
        "colab": {
          "base_uri": "https://localhost:8080/"
        },
        "id": "LU2lgKM_wpmc",
        "outputId": "3ac522a5-6672-419d-b75e-eee1afc558e4"
      },
      "execution_count": 9,
      "outputs": [
        {
          "output_type": "stream",
          "name": "stdout",
          "text": [
            "Found 4591 images belonging to 2 classes.\n",
            "Found 625 images belonging to 2 classes.\n",
            "Found 624 images belonging to 2 classes.\n"
          ]
        }
      ]
    },
    {
      "cell_type": "code",
      "source": [
        "print(\"Class Labels are: \", train_generator.class_indices)\n",
        "print(\"Image shape is : \", train_generator.image_shape)"
      ],
      "metadata": {
        "colab": {
          "base_uri": "https://localhost:8080/"
        },
        "id": "2cRCnnCvyH2Q",
        "outputId": "a3a34de8-1d17-468c-a75f-6c98188cfe8f"
      },
      "execution_count": 10,
      "outputs": [
        {
          "output_type": "stream",
          "name": "stdout",
          "text": [
            "Class Labels are:  {'normal': 0, 'pneumonia': 1}\n",
            "Image shape is :  (150, 150, 3)\n"
          ]
        }
      ]
    },
    {
      "cell_type": "markdown",
      "source": [
        "Building the Model"
      ],
      "metadata": {
        "id": "9zPci9WN5hqx"
      }
    },
    {
      "cell_type": "code",
      "source": [
        "# Building the CNN Model\n",
        "\n",
        "model = Sequential()\n",
        "\n",
        "# Adding First Convolutional and Pooling Layer\n",
        "model.add(Conv2D(64, (5,5), padding = \"same\", activation = \"relu\", input_shape = train_generator.image_shape))\n",
        "model.add(MaxPooling2D(pool_size=(2,2)))\n",
        "\n",
        "# Dropout layer to avoid Overfitting\n",
        "model.add(Dropout(0.4))\n",
        "\n",
        "# Adding Second Convolutional and Pooling Layer\n",
        "model.add(Conv2D(64, (5,5), padding = \"same\", activation = \"relu\"))\n",
        "model.add(MaxPooling2D(pool_size=(2,2)))\n",
        "\n",
        "# Dropout layer to avoid Overfitting\n",
        "model.add(Dropout(0.4))\n",
        "\n",
        "# Flatten the Image\n",
        "model.add(Flatten())\n",
        "\n",
        "# Adding Dense and Dropout layers\n",
        "model.add(Dense(256, activation = 'relu'))\n",
        "model.add(Dropout(0.2))\n",
        "model.add(Dense(256, activation = 'relu'))\n",
        "\n",
        "model.add(Dropout(0.5))\n",
        "\n",
        "model.add(Dense(128, activation = 'relu'))\n",
        "model.add(Dropout(0.2))\n",
        "model.add(Dense(128, activation = 'relu'))\n",
        "\n",
        "model.add(Dropout(0.4))\n",
        "model.add(Dense(32, activation = 'relu'))\n",
        "\n",
        "model.add(Dense(1, activation = 'sigmoid'))\n",
        "\n",
        "# Getting Summary and compiling the model\n",
        "model.summary()\n",
        "\n",
        "model.compile(Adam(learning_rate = 0.001), loss = 'binary_crossentropy', metrics = ['accuracy'])"
      ],
      "metadata": {
        "colab": {
          "base_uri": "https://localhost:8080/"
        },
        "id": "K0hwbNDEyUMp",
        "outputId": "1a58a92a-45cb-446d-9246-4e2a1905b212"
      },
      "execution_count": 11,
      "outputs": [
        {
          "output_type": "stream",
          "name": "stdout",
          "text": [
            "Model: \"sequential\"\n",
            "_________________________________________________________________\n",
            " Layer (type)                Output Shape              Param #   \n",
            "=================================================================\n",
            " conv2d (Conv2D)             (None, 150, 150, 64)      4864      \n",
            "                                                                 \n",
            " max_pooling2d (MaxPooling2D  (None, 75, 75, 64)       0         \n",
            " )                                                               \n",
            "                                                                 \n",
            " dropout (Dropout)           (None, 75, 75, 64)        0         \n",
            "                                                                 \n",
            " conv2d_1 (Conv2D)           (None, 75, 75, 64)        102464    \n",
            "                                                                 \n",
            " max_pooling2d_1 (MaxPooling  (None, 37, 37, 64)       0         \n",
            " 2D)                                                             \n",
            "                                                                 \n",
            " dropout_1 (Dropout)         (None, 37, 37, 64)        0         \n",
            "                                                                 \n",
            " flatten (Flatten)           (None, 87616)             0         \n",
            "                                                                 \n",
            " dense (Dense)               (None, 256)               22429952  \n",
            "                                                                 \n",
            " dropout_2 (Dropout)         (None, 256)               0         \n",
            "                                                                 \n",
            " dense_1 (Dense)             (None, 256)               65792     \n",
            "                                                                 \n",
            " dropout_3 (Dropout)         (None, 256)               0         \n",
            "                                                                 \n",
            " dense_2 (Dense)             (None, 128)               32896     \n",
            "                                                                 \n",
            " dropout_4 (Dropout)         (None, 128)               0         \n",
            "                                                                 \n",
            " dense_3 (Dense)             (None, 128)               16512     \n",
            "                                                                 \n",
            " dropout_5 (Dropout)         (None, 128)               0         \n",
            "                                                                 \n",
            " dense_4 (Dense)             (None, 32)                4128      \n",
            "                                                                 \n",
            " dense_5 (Dense)             (None, 1)                 33        \n",
            "                                                                 \n",
            "=================================================================\n",
            "Total params: 22,656,641\n",
            "Trainable params: 22,656,641\n",
            "Non-trainable params: 0\n",
            "_________________________________________________________________\n"
          ]
        }
      ]
    },
    {
      "cell_type": "code",
      "source": [
        "history = model.fit(train_generator,\n",
        "                    epochs = 10,\n",
        "                    validation_data = validation_generator)"
      ],
      "metadata": {
        "colab": {
          "base_uri": "https://localhost:8080/"
        },
        "id": "N423pGs3yf6W",
        "outputId": "98b4cb2e-35d1-4754-ec75-4a6984a6de69"
      },
      "execution_count": 12,
      "outputs": [
        {
          "output_type": "stream",
          "name": "stdout",
          "text": [
            "Epoch 1/10\n",
            "100/100 [==============================] - 87s 726ms/step - loss: 0.6055 - accuracy: 0.7345 - val_loss: 0.5856 - val_accuracy: 0.7440\n",
            "Epoch 2/10\n",
            "100/100 [==============================] - 69s 691ms/step - loss: 0.4796 - accuracy: 0.7617 - val_loss: 0.3251 - val_accuracy: 0.8624\n",
            "Epoch 3/10\n",
            "100/100 [==============================] - 68s 676ms/step - loss: 0.3423 - accuracy: 0.8623 - val_loss: 0.4417 - val_accuracy: 0.8112\n",
            "Epoch 4/10\n",
            "100/100 [==============================] - 71s 715ms/step - loss: 0.2732 - accuracy: 0.8972 - val_loss: 0.2557 - val_accuracy: 0.8912\n",
            "Epoch 5/10\n",
            "100/100 [==============================] - 69s 693ms/step - loss: 0.1939 - accuracy: 0.9275 - val_loss: 0.2781 - val_accuracy: 0.8880\n",
            "Epoch 6/10\n",
            "100/100 [==============================] - 69s 690ms/step - loss: 0.1826 - accuracy: 0.9336 - val_loss: 0.2483 - val_accuracy: 0.9024\n",
            "Epoch 7/10\n",
            "100/100 [==============================] - 67s 674ms/step - loss: 0.1719 - accuracy: 0.9357 - val_loss: 0.1869 - val_accuracy: 0.9184\n",
            "Epoch 8/10\n",
            "100/100 [==============================] - 67s 674ms/step - loss: 0.1534 - accuracy: 0.9486 - val_loss: 0.1790 - val_accuracy: 0.9296\n",
            "Epoch 9/10\n",
            "100/100 [==============================] - 69s 695ms/step - loss: 0.1481 - accuracy: 0.9486 - val_loss: 0.2606 - val_accuracy: 0.8768\n",
            "Epoch 10/10\n",
            "100/100 [==============================] - 67s 674ms/step - loss: 0.1578 - accuracy: 0.9405 - val_loss: 0.1750 - val_accuracy: 0.9168\n"
          ]
        }
      ]
    },
    {
      "cell_type": "markdown",
      "source": [
        "Training Accuracy: 94.05%\n",
        "Validation Accuracy: 91.68%\n",
        "\n",
        "Point to note: The low difference between training and validation accuracy is telling that our model isn't overfitted the training data and trained properly.\n",
        "\n",
        "Now, Let's graph our Lossess and Accuracy."
      ],
      "metadata": {
        "id": "reNpWM4-LYd7"
      }
    },
    {
      "cell_type": "code",
      "source": [
        "# PLOT GRAPH BETWEEN TRAINING AND VALIDATION LOSS\n",
        "plt.plot(history.history['loss'])\n",
        "plt.plot(history.history['val_loss'])\n",
        "plt.legend(['Training', 'Validation'])\n",
        "plt.title(\"Training and validation losses\")\n",
        "plt.xlabel('epoch')"
      ],
      "metadata": {
        "colab": {
          "base_uri": "https://localhost:8080/",
          "height": 490
        },
        "id": "P7hITKiKyZwo",
        "outputId": "f72c3f5b-4708-4f86-d7ef-ccbc19065880"
      },
      "execution_count": 13,
      "outputs": [
        {
          "output_type": "execute_result",
          "data": {
            "text/plain": [
              "Text(0.5, 0, 'epoch')"
            ]
          },
          "metadata": {},
          "execution_count": 13
        },
        {
          "output_type": "display_data",
          "data": {
            "text/plain": [
              "<Figure size 640x480 with 1 Axes>"
            ],
            "image/png": "[encoded data removed]"
          },
          "metadata": {}
        }
      ]
    },
    {
      "cell_type": "code",
      "source": [
        "# PLOT GRAPH BETWEEN TRAINING AND VALIDATION ACCURACY\n",
        "plt.plot(history.history['accuracy'])\n",
        "plt.plot(history.history['val_accuracy'])\n",
        "plt.legend(['Training', 'Validation'])\n",
        "plt.title(\"Training and validation accuracy\")\n",
        "plt.xlabel('epoch')"
      ],
      "metadata": {
        "colab": {
          "base_uri": "https://localhost:8080/",
          "height": 490
        },
        "id": "VC2vPJU4zTgg",
        "outputId": "2ab594c3-d2b9-4d0c-efab-fa0894456de7"
      },
      "execution_count": 14,
      "outputs": [
        {
          "output_type": "execute_result",
          "data": {
            "text/plain": [
              "Text(0.5, 0, 'epoch')"
            ]
          },
          "metadata": {},
          "execution_count": 14
        },
        {
          "output_type": "display_data",
          "data": {
            "text/plain": [
              "<Figure size 640x480 with 1 Axes>"
            ],
            "image/png": "[encoded data removed]"
          },
          "metadata": {}
        }
      ]
    },
    {
      "cell_type": "code",
      "source": [
        "# GETTING TEST ACCURACY AND LOSS\n",
        "\n",
        "test_loss, test_acc = model.evaluate(test_generator)\n",
        "print(\"Test Set Loss : \", test_loss)\n",
        "print(\"Test Set Accuracy : \", test_acc)"
      ],
      "metadata": {
        "colab": {
          "base_uri": "https://localhost:8080/"
        },
        "id": "JCHXOqr7zV9M",
        "outputId": "cf38f81d-cbe6-4678-f3fa-8f1db9707aa2"
      },
      "execution_count": 15,
      "outputs": [
        {
          "output_type": "stream",
          "name": "stdout",
          "text": [
            "14/14 [==============================] - 4s 322ms/step - loss: 0.5628 - accuracy: 0.8253\n",
            "Test Set Loss :  0.5627773404121399\n",
            "Test Set Accuracy :  0.8253205418586731\n"
          ]
        }
      ]
    },
    {
      "cell_type": "markdown",
      "source": [
        "We are getting around 82.53% of accuracy on test set which is quite a good score.\n",
        "\n",
        "Let's test out model on one of the example from Val set."
      ],
      "metadata": {
        "id": "9ZeLpNbTJkCT"
      }
    },
    {
      "cell_type": "code",
      "source": [
        "from google.colab import files\n",
        "from tensorflow.keras.preprocessing import image\n",
        "\n",
        "uploaded = files.upload()\n",
        "\n",
        "for filename in uploaded.keys():\n",
        "  img_path = '/content/' + filename\n",
        "  img = image.load_img(img_path, target_size = (150,150))\n",
        "  images = image.img_to_array(img)\n",
        "  images = np.expand_dims(images, axis = 0)\n",
        "  prediction = model.predict(images)\n",
        "\n",
        "  if prediction == 0:\n",
        "    print(\"The report is Normal\")\n",
        "  else:\n",
        "    print(\"The report is Pneumonia Positive\")"
      ],
      "metadata": {
        "colab": {
          "base_uri": "https://localhost:8080/",
          "height": 109
        },
        "id": "Kx_jIaI4zaVq",
        "outputId": "23a018ce-0e7e-49b6-809f-4093da2f97c2"
      },
      "execution_count": 16,
      "outputs": [
        {
          "output_type": "display_data",
          "data": {
            "text/plain": [
              "<IPython.core.display.HTML object>"
            ],
            "text/html": [
              "\n",
              "     <input type=\"file\" id=\"files-42cfacb1-909b-4295-b4d6-eadccf70a01d\" name=\"files[]\" multiple disabled\n",
              "        style=\"border:none\" />\n",
              "     <output id=\"result-42cfacb1-909b-4295-b4d6-eadccf70a01d\">\n",
              "      Upload widget is only available when the cell has been executed in the\n",
              "      current browser session. Please rerun this cell to enable.\n",
              "      </output>\n",
              "      <script>// Copyright 2017 Google LLC\n",
              "//\n",
              "// Licensed under the Apache License, Version 2.0 (the \"License\");\n",
              "// you may not use this file except in compliance with the License.\n",
              "// You may obtain a copy of the License at\n",
              "//\n",
              "//      http://www.apache.org/licenses/LICENSE-2.0\n",
              "//\n",
              "// Unless required by applicable law or agreed to in writing, software\n",
              "// distributed under the License is distributed on an \"AS IS\" BASIS,\n",
              "// WITHOUT WARRANTIES OR CONDITIONS OF ANY KIND, either express or implied.\n",
              "// See the License for the specific language governing permissions and\n",
              "// limitations under the License.\n",
              "\n",
              "/**\n",
              " * @fileoverview Helpers for google.colab Python module.\n",
              " */\n",
              "(function(scope) {\n",
              "function span(text, styleAttributes = {}) {\n",
              "  const element = document.createElement('span');\n",
              "  element.textContent = text;\n",
              "  for (const key of Object.keys(styleAttributes)) {\n",
              "    element.style[key] = styleAttributes[key];\n",
              "  }\n",
              "  return element;\n",
              "}\n",
              "\n",
              "// Max number of bytes which will be uploaded at a time.\n",
              "const MAX_PAYLOAD_SIZE = 100 * 1024;\n",
              "\n",
              "function _uploadFiles(inputId, outputId) {\n",
              "  const steps = uploadFilesStep(inputId, outputId);\n",
              "  const outputElement = document.getElementById(outputId);\n",
              "  // Cache steps on the outputElement to make it available for the next call\n",
              "  // to uploadFilesContinue from Python.\n",
              "  outputElement.steps = steps;\n",
              "\n",
              "  return _uploadFilesContinue(outputId);\n",
              "}\n",
              "\n",
              "// This is roughly an async generator (not supported in the browser yet),\n",
              "// where there are multiple asynchronous steps and the Python side is going\n",
              "// to poll for completion of each step.\n",
              "// This uses a Promise to block the python side on completion of each step,\n",
              "// then passes the result of the previous step as the input to the next step.\n",
              "function _uploadFilesContinue(outputId) {\n",
              "  const outputElement = document.getElementById(outputId);\n",
              "  const steps = outputElement.steps;\n",
              "\n",
              "  const next = steps.next(outputElement.lastPromiseValue);\n",
              "  return Promise.resolve(next.value.promise).then((value) => {\n",
              "    // Cache the last promise value to make it available to the next\n",
              "    // step of the generator.\n",
              "    outputElement.lastPromiseValue = value;\n",
              "    return next.value.response;\n",
              "  });\n",
              "}\n",
              "\n",
              "/**\n",
              " * Generator function which is called between each async step of the upload\n",
              " * process.\n",
              " * @param {string} inputId Element ID of the input file picker element.\n",
              " * @param {string} outputId Element ID of the output display.\n",
              " * @return {!Iterable<!Object>} Iterable of next steps.\n",
              " */\n",
              "function* uploadFilesStep(inputId, outputId) {\n",
              "  const inputElement = document.getElementById(inputId);\n",
              "  inputElement.disabled = false;\n",
              "\n",
              "  const outputElement = document.getElementById(outputId);\n",
              "  outputElement.innerHTML = '';\n",
              "\n",
              "  const pickedPromise = new Promise((resolve) => {\n",
              "    inputElement.addEventListener('change', (e) => {\n",
              "      resolve(e.target.files);\n",
              "    });\n",
              "  });\n",
              "\n",
              "  const cancel = document.createElement('button');\n",
              "  inputElement.parentElement.appendChild(cancel);\n",
              "  cancel.textContent = 'Cancel upload';\n",
              "  const cancelPromise = new Promise((resolve) => {\n",
              "    cancel.onclick = () => {\n",
              "      resolve(null);\n",
              "    };\n",
              "  });\n",
              "\n",
              "  // Wait for the user to pick the files.\n",
              "  const files = yield {\n",
              "    promise: Promise.race([pickedPromise, cancelPromise]),\n",
              "    response: {\n",
              "      action: 'starting',\n",
              "    }\n",
              "  };\n",
              "\n",
              "  cancel.remove();\n",
              "\n",
              "  // Disable the input element since further picks are not allowed.\n",
              "  inputElement.disabled = true;\n",
              "\n",
              "  if (!files) {\n",
              "    return {\n",
              "      response: {\n",
              "        action: 'complete',\n",
              "      }\n",
              "    };\n",
              "  }\n",
              "\n",
              "  for (const file of files) {\n",
              "    const li = document.createElement('li');\n",
              "    li.append(span(file.name, {fontWeight: 'bold'}));\n",
              "    li.append(span(\n",
              "        `(${file.type || 'n/a'}) - ${file.size} bytes, ` +\n",
              "        `last modified: ${\n",
              "            file.lastModifiedDate ? file.lastModifiedDate.toLocaleDateString() :\n",
              "                                    'n/a'} - `));\n",
              "    const percent = span('0% done');\n",
              "    li.appendChild(percent);\n",
              "\n",
              "    outputElement.appendChild(li);\n",
              "\n",
              "    const fileDataPromise = new Promise((resolve) => {\n",
              "      const reader = new FileReader();\n",
              "      reader.onload = (e) => {\n",
              "        resolve(e.target.result);\n",
              "      };\n",
              "      reader.readAsArrayBuffer(file);\n",
              "    });\n",
              "    // Wait for the data to be ready.\n",
              "    let fileData = yield {\n",
              "      promise: fileDataPromise,\n",
              "      response: {\n",
              "        action: 'continue',\n",
              "      }\n",
              "    };\n",
              "\n",
              "    // Use a chunked sending to avoid message size limits. See b/62115660.\n",
              "    let position = 0;\n",
              "    do {\n",
              "      const length = Math.min(fileData.byteLength - position, MAX_PAYLOAD_SIZE);\n",
              "      const chunk = new Uint8Array(fileData, position, length);\n",
              "      position += length;\n",
              "\n",
              "      const base64 = btoa(String.fromCharCode.apply(null, chunk));\n",
              "      yield {\n",
              "        response: {\n",
              "          action: 'append',\n",
              "          file: file.name,\n",
              "          data: base64,\n",
              "        },\n",
              "      };\n",
              "\n",
              "      let percentDone = fileData.byteLength === 0 ?\n",
              "          100 :\n",
              "          Math.round((position / fileData.byteLength) * 100);\n",
              "      percent.textContent = `${percentDone}% done`;\n",
              "\n",
              "    } while (position < fileData.byteLength);\n",
              "  }\n",
              "\n",
              "  // All done.\n",
              "  yield {\n",
              "    response: {\n",
              "      action: 'complete',\n",
              "    }\n",
              "  };\n",
              "}\n",
              "\n",
              "scope.google = scope.google || {};\n",
              "scope.google.colab = scope.google.colab || {};\n",
              "scope.google.colab._files = {\n",
              "  _uploadFiles,\n",
              "  _uploadFilesContinue,\n",
              "};\n",
              "})(self);\n",
              "</script> "
            ]
          },
          "metadata": {}
        },
        {
          "output_type": "stream",
          "name": "stdout",
          "text": [
            "Saving person1949_bacteria_4880.jpeg to person1949_bacteria_4880.jpeg\n",
            "1/1 [==============================] - 0s 296ms/step\n",
            "The report is Pneumonia Positive\n"
          ]
        }
      ]
    },
    {
      "cell_type": "markdown",
      "source": [
        "Saving our model"
      ],
      "metadata": {
        "id": "67JknnXhJ12p"
      }
    },
    {
      "cell_type": "code",
      "source": [
        "model.save(\"Pnuemonia_prediction_model.h5\")"
      ],
      "metadata": {
        "id": "nCtisMEwzgGm"
      },
      "execution_count": 17,
      "outputs": []
    }
  ]
}